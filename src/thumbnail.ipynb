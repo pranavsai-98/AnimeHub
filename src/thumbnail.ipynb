{
 "cells": [
  {
   "cell_type": "code",
   "execution_count": 1,
   "metadata": {},
   "outputs": [],
   "source": [
    "import requests\n",
    "from bs4 import BeautifulSoup\n",
    "import urllib.request\n",
    "import os\n",
    "import time\n",
    "downloaded_animes = []\n",
    "\n",
    "def download_image(image_url, image_file_path):\n",
    "    try:\n",
    "        urllib.request.urlretrieve(image_url, image_file_path)\n",
    "    except Exception as e:\n",
    "        print(f\"Failed to download image from {image_url} due to error: {e}\")\n",
    "\n",
    "def get_anime_thumbnail(anime_title):\n",
    "    url = 'https://myanimelist.net/anime.php?q={}'.format(anime_title.replace(\" \", \"%20\"))\n",
    "    response = requests.get(url)\n",
    "    soup = BeautifulSoup(response.text, 'html.parser')\n",
    "    \n",
    "    # Get the first anime title in the search results\n",
    "    first_anime = soup.find('a', class_='hoverinfo_trigger fw-b fl-l')\n",
    "    \n",
    "    if first_anime:\n",
    "        try:\n",
    "            anime_url = first_anime['href']\n",
    "            response = requests.get(anime_url)\n",
    "            soup = BeautifulSoup(response.text, 'html.parser')\n",
    "\n",
    "            # Get image url from the anime page\n",
    "            image_element = soup.find('img', itemprop='image')\n",
    "\n",
    "            if image_element and 'data-src' in image_element.attrs:\n",
    "                image_url = image_element['data-src']\n",
    "        \n",
    "                # Save the image to a file\n",
    "                download_image(image_url, os.path.join('anime_images','{}.jpg'.format(anime_title.replace(\" \", \"_\"))))\n",
    "                print(f\"Image for '{anime_title}' downloaded successfully.\")\n",
    "                downloaded_animes.append(anime_title)\n",
    "            else:\n",
    "                print(f\"No image found for '{anime_title}'.\")\n",
    "        except Exception as e:\n",
    "            print(f\"Failed to process {anime_title} due to error: {e}\")\n",
    "    else:\n",
    "        print(f\"No results found for '{anime_title}'.\")\n"
   ]
  },
  {
   "cell_type": "code",
   "execution_count": 39,
   "metadata": {},
   "outputs": [
    {
     "name": "stdout",
     "output_type": "stream",
     "text": [
      "(19, 1)\n"
     ]
    },
    {
     "data": {
      "text/html": [
       "<div>\n",
       "<style scoped>\n",
       "    .dataframe tbody tr th:only-of-type {\n",
       "        vertical-align: middle;\n",
       "    }\n",
       "\n",
       "    .dataframe tbody tr th {\n",
       "        vertical-align: top;\n",
       "    }\n",
       "\n",
       "    .dataframe thead th {\n",
       "        text-align: right;\n",
       "    }\n",
       "</style>\n",
       "<table border=\"1\" class=\"dataframe\">\n",
       "  <thead>\n",
       "    <tr style=\"text-align: right;\">\n",
       "      <th></th>\n",
       "      <th>Name</th>\n",
       "    </tr>\n",
       "  </thead>\n",
       "  <tbody>\n",
       "    <tr>\n",
       "      <th>0</th>\n",
       "      <td>Hentai Ouji to Warawanai Neko.</td>\n",
       "    </tr>\n",
       "    <tr>\n",
       "      <th>1</th>\n",
       "      <td>K</td>\n",
       "    </tr>\n",
       "    <tr>\n",
       "      <th>2</th>\n",
       "      <td>Haikyuu!!  Karasuno Koukou vs. Shiratorizawa G...</td>\n",
       "    </tr>\n",
       "    <tr>\n",
       "      <th>3</th>\n",
       "      <td>Ano Hi Mita Hana no Namae wo Bokutachi wa Mada...</td>\n",
       "    </tr>\n",
       "    <tr>\n",
       "      <th>4</th>\n",
       "      <td>Yahari Ore no Seishun Love Comedy wa Machigatt...</td>\n",
       "    </tr>\n",
       "  </tbody>\n",
       "</table>\n",
       "</div>"
      ],
      "text/plain": [
       "                                                Name\n",
       "0                     Hentai Ouji to Warawanai Neko.\n",
       "1                                                  K\n",
       "2  Haikyuu!!  Karasuno Koukou vs. Shiratorizawa G...\n",
       "3  Ano Hi Mita Hana no Namae wo Bokutachi wa Mada...\n",
       "4  Yahari Ore no Seishun Love Comedy wa Machigatt..."
      ]
     },
     "execution_count": 39,
     "metadata": {},
     "output_type": "execute_result"
    }
   ],
   "source": [
    "import pandas as pd\n",
    "anime_names = pd.read_csv('../Data/final_anime_download.csv') \n",
    "print(anime_names.shape)\n",
    "anime_names.head()"
   ]
  },
  {
   "cell_type": "code",
   "execution_count": 41,
   "metadata": {},
   "outputs": [
    {
     "name": "stdout",
     "output_type": "stream",
     "text": [
      "Image for 'Akira' downloaded successfully.\n",
      "Image for 'Ano Hi Mita Hana no Namae wo Bokutachi wa Mada Shiranai.' downloaded successfully.\n",
      "Image for 'Code Geass: Hangyaku no Lelouch R2' downloaded successfully.\n",
      "Image for 'Darling in the FranXX' downloaded successfully.\n",
      "Image for 'Dr. Stone' downloaded successfully.\n",
      "Image for 'Fullmetal Alchemist: Brotherhood' downloaded successfully.\n",
      "Image for 'Kimi no Na wa.' downloaded successfully.\n",
      "Image for 'Monogatari Series: Second Season' downloaded successfully.\n",
      "Image for 'Yahari Ore no Seishun Love Comedy wa Machigatteiru.' downloaded successfully.\n"
     ]
    }
   ],
   "source": [
    "# List of anime\n",
    "# anime_list = list(anime_names['Name'])\n",
    "anime_list = ['Akira',\n",
    " 'Ano Hi Mita Hana no Namae wo Bokutachi wa Mada Shiranai.',\n",
    " 'Code Geass: Hangyaku no Lelouch R2',\n",
    " 'Darling in the FranXX',\n",
    " 'Dr. Stone',\n",
    " 'Fullmetal Alchemist: Brotherhood',\n",
    " 'Kimi no Na wa.',\n",
    " 'Monogatari Series: Second Season',\n",
    " 'Yahari Ore no Seishun Love Comedy wa Machigatteiru.']\n",
    "\n",
    "# Create a directory for anime images\n",
    "if not os.path.exists('thumbnail'):\n",
    "    os.makedirs('thumbnail')\n",
    "\n",
    "# Download thumbnails\n",
    "for i, anime in enumerate(anime_list, start=1):\n",
    "    get_anime_thumbnail(anime)\n",
    "\n",
    "    # Pause for 1.2 seconds after each download to limit the rate to 50 images per minute\n",
    "    if i % 50 == 0:\n",
    "        print(\"DOWNLOADED {} IMAGES. PAUSING FOR A MINUTE TO AVOID RATE LIMITS.\".format(len(downloaded_animes)))\n",
    "        time.sleep(60)  # sleep for 60 seconds after every 50 downloads\n",
    "    else:\n",
    "        time.sleep(10)"
   ]
  },
  {
   "cell_type": "code",
   "execution_count": 38,
   "metadata": {},
   "outputs": [
    {
     "data": {
      "text/plain": [
       "'https://myanimelist.net/anime.php?q=Kore%20wa%20Zombie%20Desu%20ka?'"
      ]
     },
     "execution_count": 38,
     "metadata": {},
     "output_type": "execute_result"
    }
   ],
   "source": [
    "url = 'https://myanimelist.net/anime.php?q={}'.format(\"Kore wa Zombie Desu ka?\".replace(\" \", \"%20\"))\n",
    "url"
   ]
  },
  {
   "cell_type": "code",
   "execution_count": 15,
   "metadata": {},
   "outputs": [
    {
     "data": {
      "text/plain": [
       "\"https://myanimelist.net/anime.php?q=KonoSuba:God's%20Blessing%20on%20This%20Wonderful%20World!\""
      ]
     },
     "execution_count": 15,
     "metadata": {},
     "output_type": "execute_result"
    }
   ],
   "source": [
    "url"
   ]
  },
  {
   "cell_type": "code",
   "execution_count": null,
   "metadata": {},
   "outputs": [],
   "source": []
  }
 ],
 "metadata": {
  "kernelspec": {
   "display_name": "anime_env",
   "language": "python",
   "name": "python3"
  },
  "language_info": {
   "codemirror_mode": {
    "name": "ipython",
    "version": 3
   },
   "file_extension": ".py",
   "mimetype": "text/x-python",
   "name": "python",
   "nbconvert_exporter": "python",
   "pygments_lexer": "ipython3",
   "version": "3.11.4"
  },
  "orig_nbformat": 4
 },
 "nbformat": 4,
 "nbformat_minor": 2
}
