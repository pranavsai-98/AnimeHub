{
 "cells": [
  {
   "cell_type": "code",
   "execution_count": 2,
   "metadata": {},
   "outputs": [
    {
     "ename": "APIException",
     "evalue": "HTTP 410 - status=410, type=BadResponseException, message=v3 has been discontinued. For more information visit https://bit.ly/jikan-v3-deprecation, upgrade=Please upgrade to v4: https://docs.api.jikan.moe/ for search type=anime, query=One Piece",
     "output_type": "error",
     "traceback": [
      "\u001b[1;31m---------------------------------------------------------------------------\u001b[0m",
      "\u001b[1;31mAPIException\u001b[0m                              Traceback (most recent call last)",
      "Cell \u001b[1;32mIn[2], line 7\u001b[0m\n\u001b[0;32m      4\u001b[0m jikan \u001b[39m=\u001b[39m Jikan()\n\u001b[0;32m      6\u001b[0m \u001b[39m# Search for an anime by its name\u001b[39;00m\n\u001b[1;32m----> 7\u001b[0m search_results \u001b[39m=\u001b[39m jikan\u001b[39m.\u001b[39;49msearch(\u001b[39m'\u001b[39;49m\u001b[39manime\u001b[39;49m\u001b[39m'\u001b[39;49m, \u001b[39m'\u001b[39;49m\u001b[39mOne Piece\u001b[39;49m\u001b[39m'\u001b[39;49m)  \u001b[39m# Replace 'One Piece' with the name of the anime\u001b[39;00m\n\u001b[0;32m      9\u001b[0m \u001b[39m# Fetch the first anime from the search results\u001b[39;00m\n\u001b[0;32m     10\u001b[0m first_anime \u001b[39m=\u001b[39m search_results[\u001b[39m'\u001b[39m\u001b[39mresults\u001b[39m\u001b[39m'\u001b[39m][\u001b[39m0\u001b[39m]\n",
      "File \u001b[1;32mc:\\Users\\PC\\OneDrive\\Desktop\\Projects\\Anime\\anime_env\\Lib\\site-packages\\jikanpy\\jikan.py:242\u001b[0m, in \u001b[0;36mJikan.search\u001b[1;34m(self, search_type, query, page, parameters)\u001b[0m\n\u001b[0;32m    240\u001b[0m url \u001b[39m=\u001b[39m utils\u001b[39m.\u001b[39mget_search_url(\u001b[39mself\u001b[39m\u001b[39m.\u001b[39mbase, search_type, query, page, parameters)\n\u001b[0;32m    241\u001b[0m kwargs \u001b[39m=\u001b[39m {\u001b[39m\"\u001b[39m\u001b[39msearch type\u001b[39m\u001b[39m\"\u001b[39m: search_type, \u001b[39m\"\u001b[39m\u001b[39mquery\u001b[39m\u001b[39m\"\u001b[39m: query}\n\u001b[1;32m--> 242\u001b[0m \u001b[39mreturn\u001b[39;00m \u001b[39mself\u001b[39;49m\u001b[39m.\u001b[39;49m_request(url, \u001b[39m*\u001b[39;49m\u001b[39m*\u001b[39;49mkwargs)\n",
      "File \u001b[1;32mc:\\Users\\PC\\OneDrive\\Desktop\\Projects\\Anime\\anime_env\\Lib\\site-packages\\jikanpy\\jikan.py:84\u001b[0m, in \u001b[0;36mJikan._request\u001b[1;34m(self, url, **kwargs)\u001b[0m\n\u001b[0;32m     82\u001b[0m \u001b[39m\u001b[39m\u001b[39m\"\"\"Makes a request to the Jikan API given the url and wraps the response.\"\"\"\u001b[39;00m\n\u001b[0;32m     83\u001b[0m response \u001b[39m=\u001b[39m \u001b[39mself\u001b[39m\u001b[39m.\u001b[39msession\u001b[39m.\u001b[39mget(url)\n\u001b[1;32m---> 84\u001b[0m \u001b[39mreturn\u001b[39;00m \u001b[39mself\u001b[39;49m\u001b[39m.\u001b[39;49m_wrap_response(response, url, \u001b[39m*\u001b[39;49m\u001b[39m*\u001b[39;49mkwargs)\n",
      "File \u001b[1;32mc:\\Users\\PC\\OneDrive\\Desktop\\Projects\\Anime\\anime_env\\Lib\\site-packages\\jikanpy\\jikan.py:78\u001b[0m, in \u001b[0;36mJikan._wrap_response\u001b[1;34m(response, url, **kwargs)\u001b[0m\n\u001b[0;32m     76\u001b[0m     json_response \u001b[39m=\u001b[39m {\u001b[39m\"\u001b[39m\u001b[39merror\u001b[39m\u001b[39m\"\u001b[39m: response\u001b[39m.\u001b[39mtext}\n\u001b[0;32m     77\u001b[0m \u001b[39mif\u001b[39;00m response\u001b[39m.\u001b[39mstatus_code \u001b[39m>\u001b[39m\u001b[39m=\u001b[39m \u001b[39m400\u001b[39m:\n\u001b[1;32m---> 78\u001b[0m     \u001b[39mraise\u001b[39;00m APIException(response\u001b[39m.\u001b[39mstatus_code, json_response, \u001b[39m*\u001b[39m\u001b[39m*\u001b[39mkwargs)\n\u001b[0;32m     79\u001b[0m \u001b[39mreturn\u001b[39;00m utils\u001b[39m.\u001b[39madd_jikan_metadata(response, json_response, url)\n",
      "\u001b[1;31mAPIException\u001b[0m: HTTP 410 - status=410, type=BadResponseException, message=v3 has been discontinued. For more information visit https://bit.ly/jikan-v3-deprecation, upgrade=Please upgrade to v4: https://docs.api.jikan.moe/ for search type=anime, query=One Piece"
     ]
    }
   ],
   "source": [
    "from jikanpy import Jikan\n",
    "\n",
    "# Initialize Jikan\n",
    "jikan = Jikan()\n",
    "\n",
    "# Search for an anime by its name\n",
    "search_results = jikan.search('anime', 'One Piece')  # Replace 'One Piece' with the name of the anime\n",
    "\n",
    "# Fetch the first anime from the search results\n",
    "first_anime = search_results['results'][0]\n",
    "\n",
    "# Retrieve the URL for the anime's image\n",
    "image_url = first_anime['image_url']\n",
    "\n",
    "print(image_url)\n"
   ]
  }
 ],
 "metadata": {
  "kernelspec": {
   "display_name": "anime_env",
   "language": "python",
   "name": "python3"
  },
  "language_info": {
   "codemirror_mode": {
    "name": "ipython",
    "version": 3
   },
   "file_extension": ".py",
   "mimetype": "text/x-python",
   "name": "python",
   "nbconvert_exporter": "python",
   "pygments_lexer": "ipython3",
   "version": "3.11.4"
  },
  "orig_nbformat": 4
 },
 "nbformat": 4,
 "nbformat_minor": 2
}
